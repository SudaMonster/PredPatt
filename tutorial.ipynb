{
 "cells": [
  {
   "cell_type": "markdown",
   "metadata": {},
   "source": [
    "# PredPatt Tutorial\n",
    "This is a self-contained tutorial for PredPatt. Everything is contained in this repo. You'll know how to use PredPatt in your program after going through this short tutorial.\n",
    "\n",
    "Let's import PredPatt first."
   ]
  },
  {
   "cell_type": "code",
   "execution_count": 1,
   "metadata": {
    "collapsed": true
   },
   "outputs": [],
   "source": [
    "from predpatt import PredPatt"
   ]
  },
  {
   "cell_type": "markdown",
   "metadata": {},
   "source": [
    "## Input format\n",
    "PredPatt takes Universal Dependency (UD) as input. The recommended input formats are CoNLL or [concrete](https://pypi.python.org/pypi/concrete). "
   ]
  },
  {
   "cell_type": "markdown",
   "metadata": {},
   "source": [
    "### 1. Load from CoNLL format\n",
    "Here's an example of input in CoNLL format:"
   ]
  },
  {
   "cell_type": "code",
   "execution_count": 3,
   "metadata": {
    "collapsed": true
   },
   "outputs": [],
   "source": [
    "conll_example = \"\"\"\n",
    "1\tPresident\tPresident\tPROPN\tNNP\tNumber=Sing\t2\tcompound\t_\t_\n",
    "2\tBush\tBush\tPROPN\tNNP\tNumber=Sing\t5\tnsubj\t_\t_\n",
    "3\ton\ton\tADP\tIN\t_\t4\tcase\t_\t_\n",
    "4\tTuesday\tTuesday\tPROPN\tNNP\tNumber=Sing\t5\tnmod\t_\t_\n",
    "5\tnominated\tnominate\tVERB\tVBD\tMood=Ind|Tense=Past|VerbForm=Fin\t0\troot\t_\t_\n",
    "6\ttwo\ttwo\tNUM\tCD\tNumType=Card\t7\tnummod\t_\t_\n",
    "7\tindividuals\tindividual\tNOUN\tNNS\tNumber=Plur\t5\tdobj\t_\t_\n",
    "8\tto\tto\tPART\tTO\t_\t9\tmark\t_\t_\n",
    "9\treplace\treplace\tVERB\tVB\tVerbForm=Inf\t5\tadvcl\t_\t_\n",
    "10\tretiring\tretire\tVERB\tVBG\tVerbForm=Ger\t11\tamod\t_\t_\n",
    "11\tjurists\tjurist\tNOUN\tNNS\tNumber=Plur\t9\tdobj\t_\t_\n",
    "12\ton\ton\tADP\tIN\t_\t14\tcase\t_\t_\n",
    "13\tfederal\tfederal\tADJ\tJJ\tDegree=Pos\t14\tamod\t_\t_\n",
    "14\tcourts\tcourt\tNOUN\tNNS\tNumber=Plur\t11\tnmod\t_\t_\n",
    "15\tin\tin\tADP\tIN\t_\t18\tcase\t_\t_\n",
    "16\tthe\tthe\tDET\tDT\tDefinite=Def|PronType=Art\t18\tdet\t_\t_\n",
    "17\tWashington\tWashington\tPROPN\tNNP\tNumber=Sing\t18\tcompound\t_\t_\n",
    "18\tarea\tarea\tNOUN\tNN\tNumber=Sing\t14\tnmod\t_\tSpaceAfter=No\n",
    "19\t.\t.\tPUNCT\t.\t_\t5\tpunct\t_\t_\n",
    "\"\"\""
   ]
  },
  {
   "cell_type": "markdown",
   "metadata": {},
   "source": [
    "Next, let's load this example. \n",
    "PredPatt has already prepared utils for you to load UD in CoNLL format."
   ]
  },
  {
   "cell_type": "code",
   "execution_count": 2,
   "metadata": {
    "collapsed": true
   },
   "outputs": [],
   "source": [
    "from predpatt import load_conllu"
   ]
  },
  {
   "cell_type": "markdown",
   "metadata": {},
   "source": [
    "\"`load_conllu`\" will create a generator to load multiple CoNLL examples (each of them is separated by an empty line). \n",
    "Here we just keep the first example:"
   ]
  },
  {
   "cell_type": "code",
   "execution_count": 13,
   "metadata": {
    "collapsed": true
   },
   "outputs": [],
   "source": [
    "ud_example = [ud_parse for sent_id, ud_parse in load_conllu(conll_example)][0]"
   ]
  },
  {
   "cell_type": "markdown",
   "metadata": {},
   "source": [
    "Let's see what this loaded example looks like:"
   ]
  },
  {
   "cell_type": "code",
   "execution_count": 14,
   "metadata": {
    "scrolled": false
   },
   "outputs": [
    {
     "name": "stdout",
     "output_type": "stream",
     "text": [
      "compound(President\u001b[35m/0\u001b[0m, Bush\u001b[35m/1\u001b[0m)     nsubj(Bush\u001b[35m/1\u001b[0m, nominated\u001b[35m/4\u001b[0m)        case(on\u001b[35m/2\u001b[0m, Tuesday\u001b[35m/3\u001b[0m)\n",
      "nmod(Tuesday\u001b[35m/3\u001b[0m, nominated\u001b[35m/4\u001b[0m)      root(nominated\u001b[35m/4\u001b[0m, ROOT\u001b[35m/-1\u001b[0m)        nummod(two\u001b[35m/5\u001b[0m, individuals\u001b[35m/6\u001b[0m)\n",
      "dobj(individuals\u001b[35m/6\u001b[0m, nominated\u001b[35m/4\u001b[0m)  mark(to\u001b[35m/7\u001b[0m, replace\u001b[35m/8\u001b[0m)             advcl(replace\u001b[35m/8\u001b[0m, nominated\u001b[35m/4\u001b[0m)\n",
      "amod(retiring\u001b[35m/9\u001b[0m, jurists\u001b[35m/10\u001b[0m)      dobj(jurists\u001b[35m/10\u001b[0m, replace\u001b[35m/8\u001b[0m)       case(on\u001b[35m/11\u001b[0m, courts\u001b[35m/13\u001b[0m)\n",
      "amod(federal\u001b[35m/12\u001b[0m, courts\u001b[35m/13\u001b[0m)       nmod(courts\u001b[35m/13\u001b[0m, jurists\u001b[35m/10\u001b[0m)       case(in\u001b[35m/14\u001b[0m, area\u001b[35m/17\u001b[0m)\n",
      "det(the\u001b[35m/15\u001b[0m, area\u001b[35m/17\u001b[0m)              compound(Washington\u001b[35m/16\u001b[0m, area\u001b[35m/17\u001b[0m)  nmod(area\u001b[35m/17\u001b[0m, courts\u001b[35m/13\u001b[0m)\n",
      "punct(.\u001b[35m/18\u001b[0m, nominated\u001b[35m/4\u001b[0m)\n"
     ]
    }
   ],
   "source": [
    "print ud_example.pprint(K=3)  # K is the number of columns"
   ]
  },
  {
   "cell_type": "markdown",
   "metadata": {},
   "source": [
    "### 2. Load from concrete format\n",
    "We take the concrete file in the test directory as an example."
   ]
  },
  {
   "cell_type": "code",
   "execution_count": 15,
   "metadata": {
    "collapsed": true
   },
   "outputs": [],
   "source": [
    "from predpatt import load_comm\n",
    "fpath = \"./test/data.100.fine.all.ud.comm\"\n",
    "ud_example = [ud_parse for sent_id, ud_parse in load_comm(fpath)][0]"
   ]
  },
  {
   "cell_type": "markdown",
   "metadata": {},
   "source": [
    "## Run PredPatt\n",
    "With the loaded example, we can easily get a PredPatt object as below:"
   ]
  },
  {
   "cell_type": "code",
   "execution_count": 16,
   "metadata": {
    "collapsed": true
   },
   "outputs": [],
   "source": [
    "ppatt = PredPatt(ud_example)"
   ]
  },
  {
   "cell_type": "markdown",
   "metadata": {},
   "source": [
    "PredPatt provides a straightforward way to show the content:"
   ]
  },
  {
   "cell_type": "code",
   "execution_count": 17,
   "metadata": {
    "scrolled": false
   },
   "outputs": [
    {
     "name": "stdout",
     "output_type": "stream",
     "text": [
      "\t?a \u001b[33mis/are\u001b[0m \u001b[32m61\u001b[0m \u001b[32myears\u001b[0m \u001b[32mold\u001b[0m\u001b[35m\t[old-amod]\u001b[0m\n",
      "\t\t?a: \u001b[32mPierre Vinken\u001b[0m\u001b[35m\t[Vinken-nsubj]\u001b[0m\n",
      "\t?a \u001b[32mwill\u001b[0m \u001b[32mjoin\u001b[0m ?b \u001b[32mas\u001b[0m ?c ?d\u001b[35m\t[join-root]\u001b[0m\n",
      "\t\t?a: \u001b[32mPierre Vinken , 61 years old\u001b[0m\u001b[35m\t[Vinken-nsubj]\u001b[0m\n",
      "\t\t?b: \u001b[32mthe board\u001b[0m\u001b[35m\t[board-dobj]\u001b[0m\n",
      "\t\t?c: \u001b[32ma nonexecutive director\u001b[0m\u001b[35m\t[director-nmod]\u001b[0m\n",
      "\t\t?d: \u001b[32mNov. 29\u001b[0m\u001b[35m\t[Nov.-nmod:tmod]\u001b[0m\n",
      "\t?a \u001b[33mis/are\u001b[0m \u001b[32mnonexecutive\u001b[0m\u001b[35m\t[nonexecutive-amod]\u001b[0m\n",
      "\t\t?a: \u001b[32ma director\u001b[0m\u001b[35m\t[director-nmod]\u001b[0m\n"
     ]
    }
   ],
   "source": [
    "print ppatt.pprint(color=True, track_rule=False)"
   ]
  },
  {
   "cell_type": "code",
   "execution_count": null,
   "metadata": {
    "collapsed": true
   },
   "outputs": [],
   "source": []
  }
 ],
 "metadata": {
  "kernelspec": {
   "display_name": "Python 2",
   "language": "python",
   "name": "python2"
  },
  "language_info": {
   "codemirror_mode": {
    "name": "ipython",
    "version": 2
   },
   "file_extension": ".py",
   "mimetype": "text/x-python",
   "name": "python",
   "nbconvert_exporter": "python",
   "pygments_lexer": "ipython2",
   "version": "2.7.11"
  }
 },
 "nbformat": 4,
 "nbformat_minor": 2
}
