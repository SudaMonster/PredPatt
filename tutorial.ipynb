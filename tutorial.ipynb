{
 "cells": [
  {
   "cell_type": "markdown",
   "metadata": {},
   "source": [
    "# PredPatt Tutorial\n",
    "This is a self-contained tutorial for PredPatt. You'll know how to use PredPatt in your code after going through this short tutorial.\n",
    "\n",
    "Let's import PredPatt first."
   ]
  },
  {
   "cell_type": "code",
   "execution_count": 1,
   "metadata": {
    "collapsed": true
   },
   "outputs": [],
   "source": [
    "from predpatt import PredPatt"
   ]
  },
  {
   "cell_type": "markdown",
   "metadata": {},
   "source": [
    "## Input format\n",
    "PredPatt is built atop [Universal Dependency](http://universaldependencies.org) (UD). Currently, PredPatt takes two kinds of input formats: CoNLL and [Concrete](https://pypi.python.org/pypi/concrete). "
   ]
  },
  {
   "cell_type": "markdown",
   "metadata": {},
   "source": [
    "### 1. Load from CoNLL format\n",
    "The simplest format is CoNLL. Here's an example of input in CoNLL format:"
   ]
  },
  {
   "cell_type": "code",
   "execution_count": 2,
   "metadata": {
    "collapsed": true
   },
   "outputs": [],
   "source": [
    "conll_example = \"\"\"\n",
    "1\tYou\tyou\tPRON\tPRP\tCase=Nom|Person=2|PronType=Prs\t2\tnsubj\t_\t_\n",
    "2\twonder\twonder\tVERB\tVBP\tMood=Ind|Tense=Pres|VerbForm=Fin\t0\troot\t_\t_\n",
    "3\tif\tif\tSCONJ\tIN\t_\t6\tmark\t_\t_\n",
    "4\the\the\tPRON\tPRP\tCase=Nom|Gender=Masc|Number=Sing|Person=3|PronType=Prs\t6\tnsubj\t_\t_\n",
    "5\twas\tbe\tAUX\tVBD\tMood=Ind|Number=Sing|Person=3|Tense=Past|VerbForm=Fin\t6\taux\t_\t_\n",
    "6\tmanipulating\tmanipulate\tVERB\tVBG\tTense=Pres|VerbForm=Part\t2\tadvcl\t_\t_\n",
    "7\tthe\tthe\tDET\tDT\tDefinite=Def|PronType=Art\t8\tdet\t_\t_\n",
    "8\tmarket\tmarket\tNOUN\tNN\tNumber=Sing\t6\tdobj\t_\t_\n",
    "9\twith\twith\tADP\tIN\t_\t12\tcase\t_\t_\n",
    "10\this\the\tPRON\tPRP$\tGender=Masc|Number=Sing|Person=3|Poss=Yes|PronType=Prs\t12\tnmod:poss\t_\t_\n",
    "11\tbombing\tbombing\tNOUN\tNN\tNumber=Sing\t12\tcompound\t_\t_\n",
    "12\ttargets\ttarget\tNOUN\tNNS\tNumber=Plur\t6\tnmod\t_\tSpaceAfter=No\n",
    "13\t.\t.\tPUNCT\t.\t_\t2\tpunct\t_\t_\n",
    "\"\"\""
   ]
  },
  {
   "cell_type": "markdown",
   "metadata": {},
   "source": [
    "Next, let's load this example using utils provided by PredPatt."
   ]
  },
  {
   "cell_type": "code",
   "execution_count": 3,
   "metadata": {
    "collapsed": true
   },
   "outputs": [],
   "source": [
    "from predpatt import load_conllu"
   ]
  },
  {
   "cell_type": "markdown",
   "metadata": {},
   "source": [
    "\"`load_conllu`\" will create a generator to load multiple CoNLL examples (each of them is separated by an empty line). \n",
    "Here we just keep the first example:"
   ]
  },
  {
   "cell_type": "code",
   "execution_count": 4,
   "metadata": {
    "collapsed": true
   },
   "outputs": [],
   "source": [
    "conll_example = [ud_parse for sent_id, ud_parse in load_conllu(conll_example)][0]"
   ]
  },
  {
   "cell_type": "markdown",
   "metadata": {},
   "source": [
    "Let's see what this loaded example looks like:"
   ]
  },
  {
   "cell_type": "code",
   "execution_count": 5,
   "metadata": {
    "scrolled": false
   },
   "outputs": [
    {
     "name": "stdout",
     "output_type": "stream",
     "text": [
      "nsubj(You/0, wonder/1)        root(wonder/1, ROOT/-1)           mark(if/2, manipulating/5)\n",
      "nsubj(he/3, manipulating/5)   aux(was/4, manipulating/5)        advcl(manipulating/5, wonder/1)\n",
      "det(the/6, market/7)          dobj(market/7, manipulating/5)    case(with/8, targets/11)\n",
      "nmod:poss(his/9, targets/11)  compound(bombing/10, targets/11)  nmod(targets/11, manipulating/5)\n",
      "punct(./12, wonder/1)\n"
     ]
    }
   ],
   "source": [
    "print conll_example.pprint(K=3)  # K is the number of columns"
   ]
  },
  {
   "cell_type": "markdown",
   "metadata": {},
   "source": [
    "### 2. Load from Concrete format\n",
    "Loading from data in Concrete format is also handy. Take the concrete file in the test directory as an example."
   ]
  },
  {
   "cell_type": "code",
   "execution_count": 6,
   "metadata": {
    "collapsed": true
   },
   "outputs": [],
   "source": [
    "from predpatt import load_comm\n",
    "fpath = \"./test/data.100.fine.all.ud.comm\"\n",
    "concrete_example = [ud_parse for sent_id, ud_parse in load_comm(fpath)][0]"
   ]
  },
  {
   "cell_type": "markdown",
   "metadata": {},
   "source": [
    "The concrete example looks like:"
   ]
  },
  {
   "cell_type": "code",
   "execution_count": 7,
   "metadata": {},
   "outputs": [
    {
     "name": "stdout",
     "output_type": "stream",
     "text": [
      "compound(Pierre/0, Vinken/1)  nsubj(Vinken/1, join/8)             punct(,/2, Vinken/1)\n",
      "nummod(61/3, years/4)         nmod:npmod(years/4, old/5)          amod(old/5, Vinken/1)\n",
      "punct(,/6, Vinken/1)          aux(will/7, join/8)                 root(join/8, ROOT/-1)\n",
      "det(the/9, board/10)          dobj(board/10, join/8)              case(as/11, director/14)\n",
      "det(a/12, director/14)        amod(nonexecutive/13, director/14)  nmod(director/14, join/8)\n",
      "nmod:tmod(Nov./15, join/8)    nummod(29/16, Nov./15)              punct(./17, join/8)\n"
     ]
    }
   ],
   "source": [
    "print concrete_example.pprint(K=3)"
   ]
  },
  {
   "cell_type": "markdown",
   "metadata": {},
   "source": [
    "## Play with PredPatt\n",
    "With the loaded example, we can easily get a PredPatt object as below:"
   ]
  },
  {
   "cell_type": "code",
   "execution_count": 8,
   "metadata": {
    "collapsed": true
   },
   "outputs": [],
   "source": [
    "ppatt = PredPatt(concrete_example)"
   ]
  },
  {
   "cell_type": "markdown",
   "metadata": {},
   "source": [
    "PredPatt provides a straightforward way to show the predicate-argument content. You can enable/disable \"`color`\" and \"`track_rule`\" to generate the output that suits your needs."
   ]
  },
  {
   "cell_type": "code",
   "execution_count": 9,
   "metadata": {
    "scrolled": false
   },
   "outputs": [
    {
     "name": "stdout",
     "output_type": "stream",
     "text": [
      "Pierre Vinken , 61 years old , will join the board as a nonexecutive director Nov. 29 .\n",
      "\t?a \u001b[32mwill\u001b[0m \u001b[32mjoin\u001b[0m ?b \u001b[32mas\u001b[0m ?c ?d\u001b[35m\t[join-root]\u001b[0m\n",
      "\t\t?a: \u001b[32mPierre Vinken , 61 years old\u001b[0m\u001b[35m\t[Vinken-nsubj]\u001b[0m\n",
      "\t\t?b: \u001b[32mthe board\u001b[0m\u001b[35m\t[board-dobj]\u001b[0m\n",
      "\t\t?c: \u001b[32ma nonexecutive director\u001b[0m\u001b[35m\t[director-nmod]\u001b[0m\n",
      "\t\t?d: \u001b[32mNov. 29\u001b[0m\u001b[35m\t[Nov.-nmod:tmod]\u001b[0m\n"
     ]
    }
   ],
   "source": [
    "print \" \".join([token.text for token in ppatt.tokens])\n",
    "print ppatt.pprint(color=True)"
   ]
  },
  {
   "cell_type": "markdown",
   "metadata": {
    "collapsed": true
   },
   "source": [
    "In practice, iterating the extracted predicates is quite easy. Let's iteratively print out the predicate and its arguments."
   ]
  },
  {
   "cell_type": "code",
   "execution_count": 10,
   "metadata": {},
   "outputs": [
    {
     "name": "stdout",
     "output_type": "stream",
     "text": [
      "Pierre Vinken , 61 years old , will join the board as a nonexecutive director Nov. 29 .\n",
      "\twill join as [join-root-8]\n",
      "\t\tPierre Vinken , 61 years old [Vinken-nsubj-1]\n",
      "\t\tthe board [board-dobj-10]\n",
      "\t\ta nonexecutive director [director-nmod-14]\n",
      "\t\tNov. 29 [Nov.-nmod:tmod-15]\n"
     ]
    }
   ],
   "source": [
    "print \" \".join([token.text for token in ppatt.tokens])\n",
    "for predicate in ppatt.instances:\n",
    "    print \"\\t%s [%s-%s-%d]\" % (\" \".join(token.text for token in predicate.tokens),\n",
    "                            predicate.root.text, predicate.root.gov_rel, predicate.root.position)\n",
    "    for argument in predicate.arguments:\n",
    "        print \"\\t\\t%s [%s-%s-%d]\" % (\" \".join(token.text for token in argument.tokens),\n",
    "                                     argument.root.text, argument.root.gov_rel, argument.root.position)"
   ]
  },
  {
   "cell_type": "markdown",
   "metadata": {},
   "source": [
    "### Configurable options\n",
    "PredPatt can be configured to tackle various syntactic phenomena. To do so, you can pass the configurable options to PredPatt."
   ]
  },
  {
   "cell_type": "code",
   "execution_count": 11,
   "metadata": {},
   "outputs": [
    {
     "name": "stdout",
     "output_type": "stream",
     "text": [
      "Pierre Vinken , 61 years old , will join the board as a nonexecutive director Nov. 29 .\n",
      "\t?a \u001b[33mis/are\u001b[0m \u001b[32m61\u001b[0m \u001b[32myears\u001b[0m \u001b[32mold\u001b[0m\u001b[35m\t[old-amod]\u001b[0m\n",
      "\t\t?a: \u001b[32mPierre Vinken\u001b[0m\u001b[35m\t[Vinken-nsubj]\u001b[0m\n",
      "\t?a \u001b[32mwill\u001b[0m \u001b[32mjoin\u001b[0m ?b \u001b[32mas\u001b[0m ?c ?d\u001b[35m\t[join-root]\u001b[0m\n",
      "\t\t?a: \u001b[32mPierre Vinken , 61 years old\u001b[0m\u001b[35m\t[Vinken-nsubj]\u001b[0m\n",
      "\t\t?b: \u001b[32mthe board\u001b[0m\u001b[35m\t[board-dobj]\u001b[0m\n",
      "\t\t?c: \u001b[32ma nonexecutive director\u001b[0m\u001b[35m\t[director-nmod]\u001b[0m\n",
      "\t\t?d: \u001b[32mNov. 29\u001b[0m\u001b[35m\t[Nov.-nmod:tmod]\u001b[0m\n",
      "\t?a \u001b[33mis/are\u001b[0m \u001b[32mnonexecutive\u001b[0m\u001b[35m\t[nonexecutive-amod]\u001b[0m\n",
      "\t\t?a: \u001b[32ma director\u001b[0m\u001b[35m\t[director-nmod]\u001b[0m\n"
     ]
    }
   ],
   "source": [
    "from predpatt import PredPattOpts\n",
    "from predpatt.util.ud import dep_v1, dep_v2\n",
    "resolve_relcl = True  # relative clauses\n",
    "resolve_appos = True  # appositional modifiers\n",
    "resolve_amod = True   # adjectival modifiers\n",
    "resolve_conj = True   # conjuction\n",
    "resolve_poss = True   # possessives\n",
    "ud = dep_v1.VERSION   # the version of UD\n",
    "opts = PredPattOpts(\n",
    "        resolve_relcl=resolve_relcl,\n",
    "        resolve_appos=resolve_appos,\n",
    "        resolve_amod=resolve_amod,\n",
    "        resolve_conj=resolve_conj,\n",
    "        resolve_poss=resolve_poss,\n",
    "        ud=ud\n",
    "        )\n",
    "\n",
    "ppatt = PredPatt(concrete_example, opts=opts)\n",
    "print \" \".join([token.text for token in ppatt.tokens])\n",
    "print ppatt.pprint(color=True)"
   ]
  }
 ],
 "metadata": {
  "kernelspec": {
   "display_name": "Python 2",
   "language": "python",
   "name": "python2"
  },
  "language_info": {
   "codemirror_mode": {
    "name": "ipython",
    "version": 2
   },
   "file_extension": ".py",
   "mimetype": "text/x-python",
   "name": "python",
   "nbconvert_exporter": "python",
   "pygments_lexer": "ipython2",
   "version": "2.7.11"
  }
 },
 "nbformat": 4,
 "nbformat_minor": 2
}
