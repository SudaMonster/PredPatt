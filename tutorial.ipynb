{
 "cells": [
  {
   "cell_type": "markdown",
   "metadata": {},
   "source": [
    "# PredPatt Tutorial\n",
    "This is a self-contained tutorial for PredPatt. You'll know how to use PredPatt in your code after going through this short tutorial.\n",
    "\n",
    "Let's import PredPatt first."
   ]
  },
  {
   "cell_type": "code",
   "execution_count": 1,
   "metadata": {
    "collapsed": true
   },
   "outputs": [],
   "source": [
    "from predpatt import PredPatt"
   ]
  },
  {
   "cell_type": "markdown",
   "metadata": {},
   "source": [
    "## Input format\n",
    "PredPatt is built atop [Universal Dependency](http://universaldependencies.org) (UD). Currently, PredPatt takes two kinds of input formats: CoNLL and [Concrete](https://pypi.python.org/pypi/concrete). "
   ]
  },
  {
   "cell_type": "markdown",
   "metadata": {},
   "source": [
    "### 1. Load from CoNLL format\n",
    "The simplest format is CoNLL. Here's an example of input in CoNLL format:"
   ]
  },
  {
   "cell_type": "code",
   "execution_count": 32,
   "metadata": {
    "collapsed": true
   },
   "outputs": [],
   "source": [
    "conll_example = \"\"\"\n",
    "1\tYou\tyou\tPRON\tPRP\tCase=Nom|Person=2|PronType=Prs\t2\tnsubj\t_\t_\n",
    "2\twonder\twonder\tVERB\tVBP\tMood=Ind|Tense=Pres|VerbForm=Fin\t0\troot\t_\t_\n",
    "3\tif\tif\tSCONJ\tIN\t_\t6\tmark\t_\t_\n",
    "4\the\the\tPRON\tPRP\tCase=Nom|Gender=Masc|Number=Sing|Person=3|PronType=Prs\t6\tnsubj\t_\t_\n",
    "5\twas\tbe\tAUX\tVBD\tMood=Ind|Number=Sing|Person=3|Tense=Past|VerbForm=Fin\t6\taux\t_\t_\n",
    "6\tmanipulating\tmanipulate\tVERB\tVBG\tTense=Pres|VerbForm=Part\t2\tadvcl\t_\t_\n",
    "7\tthe\tthe\tDET\tDT\tDefinite=Def|PronType=Art\t8\tdet\t_\t_\n",
    "8\tmarket\tmarket\tNOUN\tNN\tNumber=Sing\t6\tdobj\t_\t_\n",
    "9\twith\twith\tADP\tIN\t_\t12\tcase\t_\t_\n",
    "10\this\the\tPRON\tPRP$\tGender=Masc|Number=Sing|Person=3|Poss=Yes|PronType=Prs\t12\tnmod:poss\t_\t_\n",
    "11\tbombing\tbombing\tNOUN\tNN\tNumber=Sing\t12\tcompound\t_\t_\n",
    "12\ttargets\ttarget\tNOUN\tNNS\tNumber=Plur\t6\tnmod\t_\tSpaceAfter=No\n",
    "13\t.\t.\tPUNCT\t.\t_\t2\tpunct\t_\t_\n",
    "\"\"\""
   ]
  },
  {
   "cell_type": "markdown",
   "metadata": {},
   "source": [
    "Next, let's load this example using utils provided by PredPatt."
   ]
  },
  {
   "cell_type": "code",
   "execution_count": 3,
   "metadata": {
    "collapsed": true
   },
   "outputs": [],
   "source": [
    "from predpatt import load_conllu"
   ]
  },
  {
   "cell_type": "markdown",
   "metadata": {},
   "source": [
    "\"`load_conllu`\" will create a generator to load multiple CoNLL examples (each of them is separated by an empty line). \n",
    "Here we just keep the first example:"
   ]
  },
  {
   "cell_type": "code",
   "execution_count": 33,
   "metadata": {},
   "outputs": [],
   "source": [
    "ud_example = [ud_parse for sent_id, ud_parse in load_conllu(conll_example)][0]"
   ]
  },
  {
   "cell_type": "markdown",
   "metadata": {},
   "source": [
    "Let's see what this loaded example looks like:"
   ]
  },
  {
   "cell_type": "code",
   "execution_count": 20,
   "metadata": {
    "scrolled": false
   },
   "outputs": [
    {
     "name": "stdout",
     "output_type": "stream",
     "text": [
      "name(Al/0, Zaman/2)           punct(-/1, Zaman/2)         root(Zaman/2, ROOT/-1)\n",
      "punct(:/3, Zaman/2)           amod(American/4, forces/5)  nsubj(forces/5, killed/6)\n",
      "parataxis(killed/6, Zaman/2)  name(Shaikh/7, Ani/11)      name(Abdullah/8, Ani/11)\n",
      "name(al/9, Ani/11)            punct(-/10, Ani/11)         dobj(Ani/11, killed/6)\n",
      "punct(,/12, Ani/11)           det(the/13, preacher/14)    appos(preacher/14, Ani/11)\n",
      "case(at/15, mosque/17)        det(the/16, mosque/17)      nmod(mosque/17, killed/6)\n",
      "case(in/18, town/20)          det(the/19, town/20)        nmod(town/20, mosque/17)\n",
      "case(of/21, Qaim/22)          nmod(Qaim/22, town/20)      punct(,/23, town/20)\n",
      "case(near/24, border/27)      det(the/25, border/27)      amod(Syrian/26, border/27)\n",
      "nmod(border/27, town/20)      punct(./28, Zaman/2)\n"
     ]
    }
   ],
   "source": [
    "print ud_example.pprint(K=3)  # K is the number of columns"
   ]
  },
  {
   "cell_type": "markdown",
   "metadata": {},
   "source": [
    "### 2. Load from Concrete format\n",
    "Loading from data in Concrete format is also handy. Take the concrete file in the test directory as an example."
   ]
  },
  {
   "cell_type": "code",
   "execution_count": 6,
   "metadata": {
    "collapsed": true
   },
   "outputs": [],
   "source": [
    "from predpatt import load_comm\n",
    "fpath = \"./test/data.100.fine.all.ud.comm\"\n",
    "ud_example = [ud_parse for sent_id, ud_parse in load_comm(fpath)][0]"
   ]
  },
  {
   "cell_type": "markdown",
   "metadata": {},
   "source": [
    "## Play with PredPatt\n",
    "With the loaded example, we can easily get a PredPatt object as below:"
   ]
  },
  {
   "cell_type": "code",
   "execution_count": 34,
   "metadata": {
    "collapsed": true
   },
   "outputs": [],
   "source": [
    "ppatt = PredPatt(ud_example)"
   ]
  },
  {
   "cell_type": "markdown",
   "metadata": {},
   "source": [
    "PredPatt provides a straightforward way to show the predicate-argument content. You can enable/disable \"`color`\" and \"`track_rule`\" to generate the output that suits your needs."
   ]
  },
  {
   "cell_type": "code",
   "execution_count": 35,
   "metadata": {
    "scrolled": false
   },
   "outputs": [
    {
     "name": "stdout",
     "output_type": "stream",
     "text": [
      "You wonder if he was manipulating the market with his bombing targets .\n",
      "\t?a \u001b[32mwonder\u001b[0m\u001b[35m\t[wonder-root]\u001b[0m\n",
      "\t\t?a: \u001b[32mYou\u001b[0m\u001b[35m\t[You-nsubj]\u001b[0m\n",
      "\t?a \u001b[32mwas\u001b[0m \u001b[32mmanipulating\u001b[0m ?b \u001b[32mwith\u001b[0m ?c\u001b[35m\t[manipulating-advcl]\u001b[0m\n",
      "\t\t?a: \u001b[32mhe\u001b[0m\u001b[35m\t[he-nsubj]\u001b[0m\n",
      "\t\t?b: \u001b[32mthe market\u001b[0m\u001b[35m\t[market-dobj]\u001b[0m\n",
      "\t\t?c: \u001b[32mhis bombing targets\u001b[0m\u001b[35m\t[targets-nmod]\u001b[0m\n"
     ]
    }
   ],
   "source": [
    "print \" \".join([token.text for token in ppatt.tokens])\n",
    "print ppatt.pprint(color=True, track_rule=False)"
   ]
  },
  {
   "cell_type": "markdown",
   "metadata": {
    "collapsed": true
   },
   "source": [
    "In practice, iterating the extracted predicates is quite easy. Let's iteratively print out the predicate and its arguments."
   ]
  },
  {
   "cell_type": "code",
   "execution_count": 37,
   "metadata": {},
   "outputs": [
    {
     "name": "stdout",
     "output_type": "stream",
     "text": [
      "You wonder if he was manipulating the market with his bombing targets .\n",
      "\twonder [wonder-root-1]\n",
      "\t\tYou [You-nsubj-0]\n",
      "\twas manipulating with [manipulating-advcl-5]\n",
      "\t\the [he-nsubj-3]\n",
      "\t\tthe market [market-dobj-7]\n",
      "\t\this bombing targets [targets-nmod-11]\n",
      "\this [his-nmod:poss-9]\n",
      "\t\this [his-nmod:poss-9]\n",
      "\t\tbombing targets [targets-nmod-11]\n"
     ]
    }
   ],
   "source": [
    "print \" \".join([token.text for token in ppatt.tokens])\n",
    "for predicate in ppatt.instances:\n",
    "    print \"\\t%s [%s-%s-%d]\" % (\" \".join(token.text for token in predicate.tokens),\n",
    "                            predicate.root.text, predicate.root.gov_rel, predicate.root.position)\n",
    "    for argument in predicate.arguments:\n",
    "        print \"\\t\\t%s [%s-%s-%d]\" % (\" \".join(token.text for token in argument.tokens),\n",
    "                                     argument.root.text, argument.root.gov_rel, argument.root.position)"
   ]
  },
  {
   "cell_type": "markdown",
   "metadata": {},
   "source": [
    "### Configurable options\n",
    "PredPatt can be configured to tackle various syntactic phenomena. To do so, you can pass the configurable options to PredPatt."
   ]
  },
  {
   "cell_type": "code",
   "execution_count": 38,
   "metadata": {},
   "outputs": [
    {
     "name": "stdout",
     "output_type": "stream",
     "text": [
      "You wonder if he was manipulating the market with his bombing targets .\n",
      "\t?a \u001b[32mwonder\u001b[0m\u001b[35m\t[wonder-root]\u001b[0m\n",
      "\t\t?a: \u001b[32mYou\u001b[0m\u001b[35m\t[You-nsubj]\u001b[0m\n",
      "\t?a \u001b[32mwas\u001b[0m \u001b[32mmanipulating\u001b[0m ?b \u001b[32mwith\u001b[0m ?c\u001b[35m\t[manipulating-advcl]\u001b[0m\n",
      "\t\t?a: \u001b[32mhe\u001b[0m\u001b[35m\t[he-nsubj]\u001b[0m\n",
      "\t\t?b: \u001b[32mthe market\u001b[0m\u001b[35m\t[market-dobj]\u001b[0m\n",
      "\t\t?c: \u001b[32mhis bombing targets\u001b[0m\u001b[35m\t[targets-nmod]\u001b[0m\n",
      "\t?a \u001b[33mposs\u001b[0m ?b\u001b[35m\t[his-nmod:poss]\u001b[0m\n",
      "\t\t?a: \u001b[32mhis\u001b[0m\u001b[35m\t[his-nmod:poss]\u001b[0m\n",
      "\t\t?b: \u001b[32mbombing targets\u001b[0m\u001b[35m\t[targets-nmod]\u001b[0m\n"
     ]
    }
   ],
   "source": [
    "from predpatt import PredPattOpts\n",
    "resolve_relcl=True  # relative clauses\n",
    "resolve_appos=True  # appositional modifiers\n",
    "resolve_amod=True   # adjectival modifiers\n",
    "resolve_conj=True   # conjuction\n",
    "resolve_poss=True   # possessives\n",
    "ud=\"v1\"             # the version of UD (choices=[\"v1\", \"v2\"])\n",
    "opts = PredPattOpts(\n",
    "        resolve_relcl=resolve_relcl,\n",
    "        resolve_appos=resolve_appos,\n",
    "        resolve_amod=resolve_amod,\n",
    "        resolve_conj=resolve_conj,\n",
    "        resolve_poss=resolve_poss,\n",
    "        ud=ud\n",
    "        )\n",
    "\n",
    "ppatt = PredPatt(ud_example, opts=opts)\n",
    "print \" \".join([token.text for token in ppatt.tokens])\n",
    "print ppatt.pprint(color=True, track_rule=False)"
   ]
  }
 ],
 "metadata": {
  "kernelspec": {
   "display_name": "Python 2",
   "language": "python",
   "name": "python2"
  },
  "language_info": {
   "codemirror_mode": {
    "name": "ipython",
    "version": 2
   },
   "file_extension": ".py",
   "mimetype": "text/x-python",
   "name": "python",
   "nbconvert_exporter": "python",
   "pygments_lexer": "ipython2",
   "version": "2.7.11"
  }
 },
 "nbformat": 4,
 "nbformat_minor": 2
}
